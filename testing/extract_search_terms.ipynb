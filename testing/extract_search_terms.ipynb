{
 "cells": [
  {
   "cell_type": "code",
   "execution_count": 128,
   "id": "b2b2bd72",
   "metadata": {},
   "outputs": [],
   "source": [
    "import numpy as np\n",
    "import pandas as pd\n",
    "import requests\n",
    "import urllib"
   ]
  },
  {
   "cell_type": "code",
   "execution_count": 105,
   "id": "27ebab75",
   "metadata": {},
   "outputs": [
    {
     "data": {
      "text/html": [
       "<div>\n",
       "<style scoped>\n",
       "    .dataframe tbody tr th:only-of-type {\n",
       "        vertical-align: middle;\n",
       "    }\n",
       "\n",
       "    .dataframe tbody tr th {\n",
       "        vertical-align: top;\n",
       "    }\n",
       "\n",
       "    .dataframe thead th {\n",
       "        text-align: right;\n",
       "    }\n",
       "</style>\n",
       "<table border=\"1\" class=\"dataframe\">\n",
       "  <thead>\n",
       "    <tr style=\"text-align: right;\">\n",
       "      <th></th>\n",
       "      <th>terms</th>\n",
       "    </tr>\n",
       "  </thead>\n",
       "  <tbody>\n",
       "    <tr>\n",
       "      <th>0</th>\n",
       "      <td>Agence Interim Adecco</td>\n",
       "    </tr>\n",
       "    <tr>\n",
       "      <th>1</th>\n",
       "      <td>Fondation adecco</td>\n",
       "    </tr>\n",
       "    <tr>\n",
       "      <th>2</th>\n",
       "      <td>Club mediterranee</td>\n",
       "    </tr>\n",
       "  </tbody>\n",
       "</table>\n",
       "</div>"
      ],
      "text/plain": [
       "                   terms\n",
       "0  Agence Interim Adecco\n",
       "1       Fondation adecco\n",
       "2      Club mediterranee"
      ]
     },
     "execution_count": 105,
     "metadata": {},
     "output_type": "execute_result"
    }
   ],
   "source": [
    "df_logs = pd.read_csv(\n",
    "    \"./list_searches.txt\",\n",
    "    on_bad_lines=\"skip\",\n",
    "    index_col=None,\n",
    "    header=None,\n",
    "    names=[\"terms\"],\n",
    ")\n",
    "df_logs.head(3)"
   ]
  },
  {
   "cell_type": "code",
   "execution_count": 106,
   "id": "ac6e72ed",
   "metadata": {},
   "outputs": [
    {
     "data": {
      "text/plain": [
       "(17779, 1)"
      ]
     },
     "execution_count": 106,
     "metadata": {},
     "output_type": "execute_result"
    }
   ],
   "source": [
    "df_logs.shape"
   ]
  },
  {
   "cell_type": "code",
   "execution_count": 107,
   "id": "9dcea3ef",
   "metadata": {},
   "outputs": [],
   "source": [
    "df_matomo = pd.read_csv(\"./elastic_vs_postgres_v0.csv\")"
   ]
  },
  {
   "cell_type": "code",
   "execution_count": 108,
   "id": "61cd28c7",
   "metadata": {},
   "outputs": [
    {
     "data": {
      "text/html": [
       "<div>\n",
       "<style scoped>\n",
       "    .dataframe tbody tr th:only-of-type {\n",
       "        vertical-align: middle;\n",
       "    }\n",
       "\n",
       "    .dataframe tbody tr th {\n",
       "        vertical-align: top;\n",
       "    }\n",
       "\n",
       "    .dataframe thead th {\n",
       "        text-align: right;\n",
       "    }\n",
       "</style>\n",
       "<table border=\"1\" class=\"dataframe\">\n",
       "  <thead>\n",
       "    <tr style=\"text-align: right;\">\n",
       "      <th></th>\n",
       "      <th>terms</th>\n",
       "      <th>siren</th>\n",
       "      <th>url</th>\n",
       "      <th>Status</th>\n",
       "      <th>Commentaire</th>\n",
       "      <th>results_elastic</th>\n",
       "      <th>pages_elastic</th>\n",
       "      <th>siren_elastic</th>\n",
       "      <th>resp_time_elastic</th>\n",
       "      <th>results_postgres</th>\n",
       "      <th>pages_postgres</th>\n",
       "      <th>siren_postgres</th>\n",
       "      <th>resp_time_postgres</th>\n",
       "      <th>results_postges</th>\n",
       "      <th>pages_postges</th>\n",
       "      <th>rank_elastic</th>\n",
       "      <th>rank_postgres</th>\n",
       "    </tr>\n",
       "  </thead>\n",
       "  <tbody>\n",
       "    <tr>\n",
       "      <th>0</th>\n",
       "      <td>stellantis</td>\n",
       "      <td>879786085</td>\n",
       "      <td>https://annuaire-entreprises.data.gouv.fr/entr...</td>\n",
       "      <td>TRUE</td>\n",
       "      <td>542 065 479 bizarre</td>\n",
       "      <td>1353</td>\n",
       "      <td>68</td>\n",
       "      <td>['879786085', '803902485', '879147148', '34219...</td>\n",
       "      <td>0.065801</td>\n",
       "      <td>1</td>\n",
       "      <td>1</td>\n",
       "      <td>['879786085']</td>\n",
       "      <td>0.029909</td>\n",
       "      <td>1</td>\n",
       "      <td>1</td>\n",
       "      <td>0</td>\n",
       "      <td>0</td>\n",
       "    </tr>\n",
       "    <tr>\n",
       "      <th>1</th>\n",
       "      <td>STELLANTIS</td>\n",
       "      <td>879786085</td>\n",
       "      <td>https://annuaire-entreprises.data.gouv.fr/entr...</td>\n",
       "      <td>TRUE</td>\n",
       "      <td>542 065 479 bizarre</td>\n",
       "      <td>1353</td>\n",
       "      <td>68</td>\n",
       "      <td>['879786085', '803902485', '879147148', '34219...</td>\n",
       "      <td>0.070908</td>\n",
       "      <td>1</td>\n",
       "      <td>1</td>\n",
       "      <td>['879786085']</td>\n",
       "      <td>0.021949</td>\n",
       "      <td>1</td>\n",
       "      <td>1</td>\n",
       "      <td>0</td>\n",
       "      <td>0</td>\n",
       "    </tr>\n",
       "    <tr>\n",
       "      <th>2</th>\n",
       "      <td>Stellantis</td>\n",
       "      <td>879786085</td>\n",
       "      <td>https://annuaire-entreprises.data.gouv.fr/entr...</td>\n",
       "      <td>TRUE</td>\n",
       "      <td>542 065 479 bizarre</td>\n",
       "      <td>1353</td>\n",
       "      <td>68</td>\n",
       "      <td>['879786085', '803902485', '879147148', '34219...</td>\n",
       "      <td>0.080831</td>\n",
       "      <td>1</td>\n",
       "      <td>1</td>\n",
       "      <td>['879786085']</td>\n",
       "      <td>0.022308</td>\n",
       "      <td>1</td>\n",
       "      <td>1</td>\n",
       "      <td>0</td>\n",
       "      <td>0</td>\n",
       "    </tr>\n",
       "  </tbody>\n",
       "</table>\n",
       "</div>"
      ],
      "text/plain": [
       "        terms      siren                                                url  \\\n",
       "0  stellantis  879786085  https://annuaire-entreprises.data.gouv.fr/entr...   \n",
       "1  STELLANTIS  879786085  https://annuaire-entreprises.data.gouv.fr/entr...   \n",
       "2  Stellantis  879786085  https://annuaire-entreprises.data.gouv.fr/entr...   \n",
       "\n",
       "  Status          Commentaire  results_elastic  pages_elastic  \\\n",
       "0   TRUE  542 065 479 bizarre             1353             68   \n",
       "1   TRUE  542 065 479 bizarre             1353             68   \n",
       "2   TRUE  542 065 479 bizarre             1353             68   \n",
       "\n",
       "                                       siren_elastic  resp_time_elastic  \\\n",
       "0  ['879786085', '803902485', '879147148', '34219...           0.065801   \n",
       "1  ['879786085', '803902485', '879147148', '34219...           0.070908   \n",
       "2  ['879786085', '803902485', '879147148', '34219...           0.080831   \n",
       "\n",
       "   results_postgres  pages_postgres siren_postgres  resp_time_postgres  \\\n",
       "0                 1               1  ['879786085']            0.029909   \n",
       "1                 1               1  ['879786085']            0.021949   \n",
       "2                 1               1  ['879786085']            0.022308   \n",
       "\n",
       "   results_postges  pages_postges  rank_elastic  rank_postgres  \n",
       "0                1              1             0              0  \n",
       "1                1              1             0              0  \n",
       "2                1              1             0              0  "
      ]
     },
     "execution_count": 108,
     "metadata": {},
     "output_type": "execute_result"
    }
   ],
   "source": [
    "df_matomo.head(3)"
   ]
  },
  {
   "cell_type": "code",
   "execution_count": 109,
   "id": "e8147f35",
   "metadata": {},
   "outputs": [
    {
     "data": {
      "text/html": [
       "<div>\n",
       "<style scoped>\n",
       "    .dataframe tbody tr th:only-of-type {\n",
       "        vertical-align: middle;\n",
       "    }\n",
       "\n",
       "    .dataframe tbody tr th {\n",
       "        vertical-align: top;\n",
       "    }\n",
       "\n",
       "    .dataframe thead th {\n",
       "        text-align: right;\n",
       "    }\n",
       "</style>\n",
       "<table border=\"1\" class=\"dataframe\">\n",
       "  <thead>\n",
       "    <tr style=\"text-align: right;\">\n",
       "      <th></th>\n",
       "      <th>terms</th>\n",
       "    </tr>\n",
       "  </thead>\n",
       "  <tbody>\n",
       "    <tr>\n",
       "      <th>0</th>\n",
       "      <td>Agence Interim Adecco</td>\n",
       "    </tr>\n",
       "    <tr>\n",
       "      <th>1</th>\n",
       "      <td>Fondation adecco</td>\n",
       "    </tr>\n",
       "    <tr>\n",
       "      <th>2</th>\n",
       "      <td>Club mediterranee</td>\n",
       "    </tr>\n",
       "    <tr>\n",
       "      <th>3</th>\n",
       "      <td>Club med</td>\n",
       "    </tr>\n",
       "    <tr>\n",
       "      <th>4</th>\n",
       "      <td>Emmaus communaute</td>\n",
       "    </tr>\n",
       "    <tr>\n",
       "      <th>...</th>\n",
       "      <td>...</td>\n",
       "    </tr>\n",
       "    <tr>\n",
       "      <th>17774</th>\n",
       "      <td>Climatisation</td>\n",
       "    </tr>\n",
       "    <tr>\n",
       "      <th>17775</th>\n",
       "      <td>ACTION IMMOBILIERE EUROPEENNE</td>\n",
       "    </tr>\n",
       "    <tr>\n",
       "      <th>17776</th>\n",
       "      <td>TWO ON A BENCH</td>\n",
       "    </tr>\n",
       "    <tr>\n",
       "      <th>17777</th>\n",
       "      <td>Michaux stephane</td>\n",
       "    </tr>\n",
       "    <tr>\n",
       "      <th>17778</th>\n",
       "      <td>Michaux stephane 45</td>\n",
       "    </tr>\n",
       "  </tbody>\n",
       "</table>\n",
       "<p>17779 rows × 1 columns</p>\n",
       "</div>"
      ],
      "text/plain": [
       "                               terms\n",
       "0              Agence Interim Adecco\n",
       "1                   Fondation adecco\n",
       "2                  Club mediterranee\n",
       "3                           Club med\n",
       "4                  Emmaus communaute\n",
       "...                              ...\n",
       "17774                  Climatisation\n",
       "17775  ACTION IMMOBILIERE EUROPEENNE\n",
       "17776                 TWO ON A BENCH\n",
       "17777               Michaux stephane\n",
       "17778            Michaux stephane 45\n",
       "\n",
       "[17779 rows x 1 columns]"
      ]
     },
     "execution_count": 109,
     "metadata": {},
     "output_type": "execute_result"
    }
   ],
   "source": [
    "df_logs"
   ]
  },
  {
   "cell_type": "code",
   "execution_count": 110,
   "id": "8020fbaf",
   "metadata": {},
   "outputs": [],
   "source": [
    "df_matomo[\"terms\"] = df_matomo[\"terms\"].str.lower()\n",
    "df_logs[\"terms\"] = df_logs[\"terms\"].str.lower()"
   ]
  },
  {
   "cell_type": "code",
   "execution_count": 111,
   "id": "875576f7",
   "metadata": {},
   "outputs": [
    {
     "data": {
      "text/plain": [
       "(17779, 1)"
      ]
     },
     "execution_count": 111,
     "metadata": {},
     "output_type": "execute_result"
    }
   ],
   "source": [
    "df_logs.shape"
   ]
  },
  {
   "cell_type": "code",
   "execution_count": 112,
   "id": "c2b15f1a",
   "metadata": {},
   "outputs": [],
   "source": [
    "count = 0\n",
    "for term_log in df_logs[\"terms\"]:\n",
    "    for term_matomo in df_matomo[\"terms\"]:\n",
    "        if term_log == term_matomo:\n",
    "            df_logs = df_logs[df_logs[\"terms\"] != term_matomo]\n",
    "            count += 1"
   ]
  },
  {
   "cell_type": "code",
   "execution_count": 113,
   "id": "0a0c6427",
   "metadata": {},
   "outputs": [
    {
     "data": {
      "text/plain": [
       "1648"
      ]
     },
     "execution_count": 113,
     "metadata": {},
     "output_type": "execute_result"
    }
   ],
   "source": [
    "count"
   ]
  },
  {
   "cell_type": "code",
   "execution_count": 114,
   "id": "9eaab25e",
   "metadata": {},
   "outputs": [
    {
     "data": {
      "text/html": [
       "<div>\n",
       "<style scoped>\n",
       "    .dataframe tbody tr th:only-of-type {\n",
       "        vertical-align: middle;\n",
       "    }\n",
       "\n",
       "    .dataframe tbody tr th {\n",
       "        vertical-align: top;\n",
       "    }\n",
       "\n",
       "    .dataframe thead th {\n",
       "        text-align: right;\n",
       "    }\n",
       "</style>\n",
       "<table border=\"1\" class=\"dataframe\">\n",
       "  <thead>\n",
       "    <tr style=\"text-align: right;\">\n",
       "      <th></th>\n",
       "      <th>terms</th>\n",
       "    </tr>\n",
       "  </thead>\n",
       "  <tbody>\n",
       "    <tr>\n",
       "      <th>0</th>\n",
       "      <td>agence interim adecco</td>\n",
       "    </tr>\n",
       "    <tr>\n",
       "      <th>1</th>\n",
       "      <td>fondation adecco</td>\n",
       "    </tr>\n",
       "    <tr>\n",
       "      <th>2</th>\n",
       "      <td>club mediterranee</td>\n",
       "    </tr>\n",
       "    <tr>\n",
       "      <th>3</th>\n",
       "      <td>club med</td>\n",
       "    </tr>\n",
       "    <tr>\n",
       "      <th>4</th>\n",
       "      <td>emmaus communaute</td>\n",
       "    </tr>\n",
       "    <tr>\n",
       "      <th>...</th>\n",
       "      <td>...</td>\n",
       "    </tr>\n",
       "    <tr>\n",
       "      <th>17774</th>\n",
       "      <td>climatisation</td>\n",
       "    </tr>\n",
       "    <tr>\n",
       "      <th>17775</th>\n",
       "      <td>action immobiliere europeenne</td>\n",
       "    </tr>\n",
       "    <tr>\n",
       "      <th>17776</th>\n",
       "      <td>two on a bench</td>\n",
       "    </tr>\n",
       "    <tr>\n",
       "      <th>17777</th>\n",
       "      <td>michaux stephane</td>\n",
       "    </tr>\n",
       "    <tr>\n",
       "      <th>17778</th>\n",
       "      <td>michaux stephane 45</td>\n",
       "    </tr>\n",
       "  </tbody>\n",
       "</table>\n",
       "<p>17367 rows × 1 columns</p>\n",
       "</div>"
      ],
      "text/plain": [
       "                               terms\n",
       "0              agence interim adecco\n",
       "1                   fondation adecco\n",
       "2                  club mediterranee\n",
       "3                           club med\n",
       "4                  emmaus communaute\n",
       "...                              ...\n",
       "17774                  climatisation\n",
       "17775  action immobiliere europeenne\n",
       "17776                 two on a bench\n",
       "17777               michaux stephane\n",
       "17778            michaux stephane 45\n",
       "\n",
       "[17367 rows x 1 columns]"
      ]
     },
     "execution_count": 114,
     "metadata": {},
     "output_type": "execute_result"
    }
   ],
   "source": [
    "df_logs"
   ]
  },
  {
   "cell_type": "code",
   "execution_count": 115,
   "id": "c5d4ceb8",
   "metadata": {},
   "outputs": [],
   "source": [
    "df_logs.drop_duplicates(subset=[\"terms\"], keep=\"last\", inplace=True)"
   ]
  },
  {
   "cell_type": "code",
   "execution_count": 116,
   "id": "692458b1",
   "metadata": {},
   "outputs": [
    {
     "data": {
      "text/plain": [
       "(16621, 1)"
      ]
     },
     "execution_count": 116,
     "metadata": {},
     "output_type": "execute_result"
    }
   ],
   "source": [
    "df_logs.shape"
   ]
  },
  {
   "cell_type": "code",
   "execution_count": 117,
   "id": "1df2d82d",
   "metadata": {},
   "outputs": [],
   "source": [
    "for term in df_logs[\"terms\"]:\n",
    "    if term.isdecimal():\n",
    "        df_logs = df_logs[df_logs[\"terms\"] != term]"
   ]
  },
  {
   "cell_type": "code",
   "execution_count": 118,
   "id": "f45e520b",
   "metadata": {},
   "outputs": [
    {
     "data": {
      "text/plain": [
       "(16079, 1)"
      ]
     },
     "execution_count": 118,
     "metadata": {},
     "output_type": "execute_result"
    }
   ],
   "source": [
    "df_logs.shape"
   ]
  },
  {
   "cell_type": "code",
   "execution_count": 120,
   "id": "f06c2e48",
   "metadata": {},
   "outputs": [],
   "source": [
    "df_logs[\"url_post\"] = \"\"\n",
    "df_logs[\"url_elastic\"] = \"\""
   ]
  },
  {
   "cell_type": "code",
   "execution_count": 121,
   "id": "6c459e1c",
   "metadata": {},
   "outputs": [
    {
     "data": {
      "text/plain": [
       "(16079, 3)"
      ]
     },
     "execution_count": 121,
     "metadata": {},
     "output_type": "execute_result"
    }
   ],
   "source": [
    "df_logs.shape"
   ]
  },
  {
   "cell_type": "code",
   "execution_count": 135,
   "id": "d4e95b73",
   "metadata": {},
   "outputs": [],
   "source": [
    "for index, row in df_logs.iterrows():\n",
    "    terms = df_logs[\"terms\"][index]\n",
    "    df_logs[\"url_post\"][\n",
    "        index\n",
    "    ] = f'https://annuaire-entreprises.data.gouv.fr/rechercher?terme={urllib.parse.quote(terms, safe=\"\")}'\n",
    "    df_logs[\"url_elastic\"][\n",
    "        index\n",
    "    ] = f'https://test.annuaire-entreprises.data.gouv.fr/rechercher?terme={urllib.parse.quote(terms, safe=\"\")}'"
   ]
  },
  {
   "cell_type": "code",
   "execution_count": 123,
   "id": "6da5cadb",
   "metadata": {},
   "outputs": [
    {
     "data": {
      "text/html": [
       "<div>\n",
       "<style scoped>\n",
       "    .dataframe tbody tr th:only-of-type {\n",
       "        vertical-align: middle;\n",
       "    }\n",
       "\n",
       "    .dataframe tbody tr th {\n",
       "        vertical-align: top;\n",
       "    }\n",
       "\n",
       "    .dataframe thead th {\n",
       "        text-align: right;\n",
       "    }\n",
       "</style>\n",
       "<table border=\"1\" class=\"dataframe\">\n",
       "  <thead>\n",
       "    <tr style=\"text-align: right;\">\n",
       "      <th></th>\n",
       "      <th>terms</th>\n",
       "      <th>url_post</th>\n",
       "      <th>url_elastic</th>\n",
       "    </tr>\n",
       "  </thead>\n",
       "  <tbody>\n",
       "    <tr>\n",
       "      <th>0</th>\n",
       "      <td>agence interim adecco</td>\n",
       "      <td>https://annuaire-entreprises.data.gouv.fr/rech...</td>\n",
       "      <td>https://test.annuaire-entreprises.data.gouv.fr...</td>\n",
       "    </tr>\n",
       "    <tr>\n",
       "      <th>1</th>\n",
       "      <td>fondation adecco</td>\n",
       "      <td>https://annuaire-entreprises.data.gouv.fr/rech...</td>\n",
       "      <td>https://test.annuaire-entreprises.data.gouv.fr...</td>\n",
       "    </tr>\n",
       "    <tr>\n",
       "      <th>2</th>\n",
       "      <td>club mediterranee</td>\n",
       "      <td>https://annuaire-entreprises.data.gouv.fr/rech...</td>\n",
       "      <td>https://test.annuaire-entreprises.data.gouv.fr...</td>\n",
       "    </tr>\n",
       "    <tr>\n",
       "      <th>4</th>\n",
       "      <td>emmaus communaute</td>\n",
       "      <td>https://annuaire-entreprises.data.gouv.fr/rech...</td>\n",
       "      <td>https://test.annuaire-entreprises.data.gouv.fr...</td>\n",
       "    </tr>\n",
       "    <tr>\n",
       "      <th>7</th>\n",
       "      <td>psa peugeot</td>\n",
       "      <td>https://annuaire-entreprises.data.gouv.fr/rech...</td>\n",
       "      <td>https://test.annuaire-entreprises.data.gouv.fr...</td>\n",
       "    </tr>\n",
       "  </tbody>\n",
       "</table>\n",
       "</div>"
      ],
      "text/plain": [
       "                   terms                                           url_post  \\\n",
       "0  agence interim adecco  https://annuaire-entreprises.data.gouv.fr/rech...   \n",
       "1       fondation adecco  https://annuaire-entreprises.data.gouv.fr/rech...   \n",
       "2      club mediterranee  https://annuaire-entreprises.data.gouv.fr/rech...   \n",
       "4      emmaus communaute  https://annuaire-entreprises.data.gouv.fr/rech...   \n",
       "7            psa peugeot  https://annuaire-entreprises.data.gouv.fr/rech...   \n",
       "\n",
       "                                         url_elastic  \n",
       "0  https://test.annuaire-entreprises.data.gouv.fr...  \n",
       "1  https://test.annuaire-entreprises.data.gouv.fr...  \n",
       "2  https://test.annuaire-entreprises.data.gouv.fr...  \n",
       "4  https://test.annuaire-entreprises.data.gouv.fr...  \n",
       "7  https://test.annuaire-entreprises.data.gouv.fr...  "
      ]
     },
     "execution_count": 123,
     "metadata": {},
     "output_type": "execute_result"
    }
   ],
   "source": [
    "df_logs.head(5)"
   ]
  },
  {
   "cell_type": "code",
   "execution_count": 138,
   "id": "fc72b7b2",
   "metadata": {},
   "outputs": [],
   "source": [
    "df_logs.to_csv(\"./dataset_logs_ngnix.csv\", header=True, index=False)"
   ]
  },
  {
   "cell_type": "code",
   "execution_count": 137,
   "id": "191fb4a4",
   "metadata": {},
   "outputs": [
    {
     "data": {
      "text/plain": [
       "'https://annuaire-entreprises.data.gouv.fr/rechercher?terme=fondation%20adecco'"
      ]
     },
     "execution_count": 137,
     "metadata": {},
     "output_type": "execute_result"
    }
   ],
   "source": [
    "df_logs[\"url_post\"][1]"
   ]
  },
  {
   "cell_type": "code",
   "execution_count": null,
   "id": "6480c2cd",
   "metadata": {},
   "outputs": [],
   "source": []
  }
 ],
 "metadata": {
  "kernelspec": {
   "display_name": "Python 3 (ipykernel)",
   "language": "python",
   "name": "python3"
  },
  "language_info": {
   "codemirror_mode": {
    "name": "ipython",
    "version": 3
   },
   "file_extension": ".py",
   "mimetype": "text/x-python",
   "name": "python",
   "nbconvert_exporter": "python",
   "pygments_lexer": "ipython3",
   "version": "3.9.7"
  }
 },
 "nbformat": 4,
 "nbformat_minor": 5
}
