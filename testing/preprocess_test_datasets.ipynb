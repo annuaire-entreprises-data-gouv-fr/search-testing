{
 "cells": [
  {
   "cell_type": "markdown",
   "id": "ce267f89",
   "metadata": {},
   "source": [
    "### Imports"
   ]
  },
  {
   "cell_type": "code",
   "execution_count": 34,
   "id": "f2e50748",
   "metadata": {
    "extensions": {
     "jupyter_dashboards": {
      "version": 1,
      "views": {
       "grid_default": {},
       "report_default": {
        "hidden": true
       }
      }
     }
    }
   },
   "outputs": [],
   "source": [
    "import numpy as np\n",
    "import pandas as pd\n",
    "\n",
    "import requests\n",
    "import json\n",
    "import time\n",
    "\n",
    "from ast import literal_eval\n",
    "\n",
    "import plotly.figure_factory as ff\n",
    "import plotly.express as px\n",
    "import plotly.graph_objects as go\n",
    "import matplotlib.pyplot as plt"
   ]
  },
  {
   "cell_type": "markdown",
   "id": "d403f0df",
   "metadata": {},
   "source": [
    "# Matomo Logs"
   ]
  },
  {
   "cell_type": "markdown",
   "id": "751ac245",
   "metadata": {},
   "source": [
    "### Import data unprocessed"
   ]
  },
  {
   "cell_type": "code",
   "execution_count": 35,
   "id": "5b576c35",
   "metadata": {
    "extensions": {
     "jupyter_dashboards": {
      "version": 1,
      "views": {
       "grid_default": {},
       "report_default": {
        "hidden": true
       }
      }
     }
    }
   },
   "outputs": [],
   "source": [
    "df_test = pd.read_csv(\"./data/matomo_logs_labelled.csv\", dtype=str)"
   ]
  },
  {
   "cell_type": "code",
   "execution_count": 36,
   "id": "6b1a516c",
   "metadata": {},
   "outputs": [
    {
     "data": {
      "text/plain": [
       "(425, 8)"
      ]
     },
     "execution_count": 36,
     "metadata": {},
     "output_type": "execute_result"
    }
   ],
   "source": [
    "df_test.shape"
   ]
  },
  {
   "cell_type": "code",
   "execution_count": 37,
   "id": "e874412a",
   "metadata": {},
   "outputs": [
    {
     "data": {
      "text/html": [
       "<div>\n",
       "<style scoped>\n",
       "    .dataframe tbody tr th:only-of-type {\n",
       "        vertical-align: middle;\n",
       "    }\n",
       "\n",
       "    .dataframe tbody tr th {\n",
       "        vertical-align: top;\n",
       "    }\n",
       "\n",
       "    .dataframe thead th {\n",
       "        text-align: right;\n",
       "    }\n",
       "</style>\n",
       "<table border=\"1\" class=\"dataframe\">\n",
       "  <thead>\n",
       "    <tr style=\"text-align: right;\">\n",
       "      <th></th>\n",
       "      <th>terms</th>\n",
       "      <th>siren</th>\n",
       "      <th>url</th>\n",
       "      <th>Status</th>\n",
       "      <th>Commentaire</th>\n",
       "      <th>Unnamed: 5</th>\n",
       "      <th>Unnamed: 6</th>\n",
       "      <th>Unnamed: 7</th>\n",
       "    </tr>\n",
       "  </thead>\n",
       "  <tbody>\n",
       "    <tr>\n",
       "      <th>0</th>\n",
       "      <td>['stellantis', 'STELLANTIS', 'Stellantis']</td>\n",
       "      <td>879786085</td>\n",
       "      <td>https://annuaire-entreprises.data.gouv.fr/entr...</td>\n",
       "      <td>TRUE</td>\n",
       "      <td>542 065 479 bizarre</td>\n",
       "      <td>NaN</td>\n",
       "      <td>NaN</td>\n",
       "      <td>NaN</td>\n",
       "    </tr>\n",
       "    <tr>\n",
       "      <th>1</th>\n",
       "      <td>['air france', 'Air france', 'AIR FRANCE', 'Ai...</td>\n",
       "      <td>420495178</td>\n",
       "      <td>https://annuaire-entreprises.data.gouv.fr/entr...</td>\n",
       "      <td>TRUE</td>\n",
       "      <td>NaN</td>\n",
       "      <td>NaN</td>\n",
       "      <td>NaN</td>\n",
       "      <td>NaN</td>\n",
       "    </tr>\n",
       "    <tr>\n",
       "      <th>2</th>\n",
       "      <td>['airbus operation', 'AIRBUS OPERATIONS', 'air...</td>\n",
       "      <td>420916918</td>\n",
       "      <td>https://annuaire-entreprises.data.gouv.fr/entr...</td>\n",
       "      <td>TRUE</td>\n",
       "      <td>NaN</td>\n",
       "      <td>NaN</td>\n",
       "      <td>NaN</td>\n",
       "      <td>NaN</td>\n",
       "    </tr>\n",
       "  </tbody>\n",
       "</table>\n",
       "</div>"
      ],
      "text/plain": [
       "                                               terms      siren  \\\n",
       "0         ['stellantis', 'STELLANTIS', 'Stellantis']  879786085   \n",
       "1  ['air france', 'Air france', 'AIR FRANCE', 'Ai...  420495178   \n",
       "2  ['airbus operation', 'AIRBUS OPERATIONS', 'air...  420916918   \n",
       "\n",
       "                                                 url Status  \\\n",
       "0  https://annuaire-entreprises.data.gouv.fr/entr...   TRUE   \n",
       "1  https://annuaire-entreprises.data.gouv.fr/entr...   TRUE   \n",
       "2  https://annuaire-entreprises.data.gouv.fr/entr...   TRUE   \n",
       "\n",
       "           Commentaire Unnamed: 5 Unnamed: 6 Unnamed: 7  \n",
       "0  542 065 479 bizarre        NaN        NaN        NaN  \n",
       "1                  NaN        NaN        NaN        NaN  \n",
       "2                  NaN        NaN        NaN        NaN  "
      ]
     },
     "execution_count": 37,
     "metadata": {},
     "output_type": "execute_result"
    }
   ],
   "source": [
    "df_test.head(3)"
   ]
  },
  {
   "cell_type": "markdown",
   "id": "fcb258db",
   "metadata": {},
   "source": [
    "### Preprocessing"
   ]
  },
  {
   "cell_type": "code",
   "execution_count": 38,
   "id": "4bddb743",
   "metadata": {
    "extensions": {
     "jupyter_dashboards": {
      "version": 1,
      "views": {
       "grid_default": {},
       "report_default": {
        "hidden": true
       }
      }
     }
    }
   },
   "outputs": [],
   "source": [
    "df_test.drop(columns=[\"Unnamed: 5\", \"Unnamed: 6\", \"Unnamed: 7\"], axis=1, inplace=True)"
   ]
  },
  {
   "cell_type": "code",
   "execution_count": 39,
   "id": "7d9bcfcd",
   "metadata": {},
   "outputs": [
    {
     "data": {
      "text/html": [
       "<div>\n",
       "<style scoped>\n",
       "    .dataframe tbody tr th:only-of-type {\n",
       "        vertical-align: middle;\n",
       "    }\n",
       "\n",
       "    .dataframe tbody tr th {\n",
       "        vertical-align: top;\n",
       "    }\n",
       "\n",
       "    .dataframe thead th {\n",
       "        text-align: right;\n",
       "    }\n",
       "</style>\n",
       "<table border=\"1\" class=\"dataframe\">\n",
       "  <thead>\n",
       "    <tr style=\"text-align: right;\">\n",
       "      <th></th>\n",
       "      <th>terms</th>\n",
       "      <th>siren</th>\n",
       "      <th>url</th>\n",
       "      <th>Status</th>\n",
       "      <th>Commentaire</th>\n",
       "    </tr>\n",
       "  </thead>\n",
       "  <tbody>\n",
       "    <tr>\n",
       "      <th>0</th>\n",
       "      <td>['stellantis', 'STELLANTIS', 'Stellantis']</td>\n",
       "      <td>879786085</td>\n",
       "      <td>https://annuaire-entreprises.data.gouv.fr/entr...</td>\n",
       "      <td>TRUE</td>\n",
       "      <td>542 065 479 bizarre</td>\n",
       "    </tr>\n",
       "  </tbody>\n",
       "</table>\n",
       "</div>"
      ],
      "text/plain": [
       "                                        terms      siren  \\\n",
       "0  ['stellantis', 'STELLANTIS', 'Stellantis']  879786085   \n",
       "\n",
       "                                                 url Status  \\\n",
       "0  https://annuaire-entreprises.data.gouv.fr/entr...   TRUE   \n",
       "\n",
       "           Commentaire  \n",
       "0  542 065 479 bizarre  "
      ]
     },
     "execution_count": 39,
     "metadata": {},
     "output_type": "execute_result"
    }
   ],
   "source": [
    "df_test.head(1)"
   ]
  },
  {
   "cell_type": "code",
   "execution_count": 40,
   "id": "c0a060de",
   "metadata": {
    "extensions": {
     "jupyter_dashboards": {
      "version": 1,
      "views": {
       "grid_default": {},
       "report_default": {
        "hidden": true
       }
      }
     }
    }
   },
   "outputs": [
    {
     "data": {
      "text/plain": [
       "terms          object\n",
       "siren          object\n",
       "url            object\n",
       "Status         object\n",
       "Commentaire    object\n",
       "dtype: object"
      ]
     },
     "execution_count": 40,
     "metadata": {},
     "output_type": "execute_result"
    }
   ],
   "source": [
    "df_test.dtypes"
   ]
  },
  {
   "cell_type": "code",
   "execution_count": 41,
   "id": "eb4ed0a0",
   "metadata": {
    "extensions": {
     "jupyter_dashboards": {
      "version": 1,
      "views": {
       "grid_default": {},
       "report_default": {
        "hidden": true
       }
      }
     }
    }
   },
   "outputs": [],
   "source": [
    "df_test[\"terms\"] = df_test[\"terms\"].apply(\n",
    "    literal_eval\n",
    ")  # convert to list type to use explode"
   ]
  },
  {
   "cell_type": "code",
   "execution_count": 42,
   "id": "e8fad04a",
   "metadata": {
    "extensions": {
     "jupyter_dashboards": {
      "version": 1,
      "views": {
       "grid_default": {},
       "report_default": {
        "hidden": true
       }
      }
     }
    }
   },
   "outputs": [],
   "source": [
    "df_test = df_test.explode(\"terms\", ignore_index=True)"
   ]
  },
  {
   "cell_type": "code",
   "execution_count": 43,
   "id": "63ba65c5",
   "metadata": {},
   "outputs": [
    {
     "data": {
      "text/html": [
       "<div>\n",
       "<style scoped>\n",
       "    .dataframe tbody tr th:only-of-type {\n",
       "        vertical-align: middle;\n",
       "    }\n",
       "\n",
       "    .dataframe tbody tr th {\n",
       "        vertical-align: top;\n",
       "    }\n",
       "\n",
       "    .dataframe thead th {\n",
       "        text-align: right;\n",
       "    }\n",
       "</style>\n",
       "<table border=\"1\" class=\"dataframe\">\n",
       "  <thead>\n",
       "    <tr style=\"text-align: right;\">\n",
       "      <th></th>\n",
       "      <th>terms</th>\n",
       "      <th>siren</th>\n",
       "      <th>url</th>\n",
       "      <th>Status</th>\n",
       "      <th>Commentaire</th>\n",
       "    </tr>\n",
       "  </thead>\n",
       "  <tbody>\n",
       "    <tr>\n",
       "      <th>0</th>\n",
       "      <td>stellantis</td>\n",
       "      <td>879786085</td>\n",
       "      <td>https://annuaire-entreprises.data.gouv.fr/entr...</td>\n",
       "      <td>TRUE</td>\n",
       "      <td>542 065 479 bizarre</td>\n",
       "    </tr>\n",
       "    <tr>\n",
       "      <th>1</th>\n",
       "      <td>STELLANTIS</td>\n",
       "      <td>879786085</td>\n",
       "      <td>https://annuaire-entreprises.data.gouv.fr/entr...</td>\n",
       "      <td>TRUE</td>\n",
       "      <td>542 065 479 bizarre</td>\n",
       "    </tr>\n",
       "    <tr>\n",
       "      <th>2</th>\n",
       "      <td>Stellantis</td>\n",
       "      <td>879786085</td>\n",
       "      <td>https://annuaire-entreprises.data.gouv.fr/entr...</td>\n",
       "      <td>TRUE</td>\n",
       "      <td>542 065 479 bizarre</td>\n",
       "    </tr>\n",
       "  </tbody>\n",
       "</table>\n",
       "</div>"
      ],
      "text/plain": [
       "        terms      siren                                                url  \\\n",
       "0  stellantis  879786085  https://annuaire-entreprises.data.gouv.fr/entr...   \n",
       "1  STELLANTIS  879786085  https://annuaire-entreprises.data.gouv.fr/entr...   \n",
       "2  Stellantis  879786085  https://annuaire-entreprises.data.gouv.fr/entr...   \n",
       "\n",
       "  Status          Commentaire  \n",
       "0   TRUE  542 065 479 bizarre  \n",
       "1   TRUE  542 065 479 bizarre  \n",
       "2   TRUE  542 065 479 bizarre  "
      ]
     },
     "execution_count": 43,
     "metadata": {},
     "output_type": "execute_result"
    }
   ],
   "source": [
    "df_test.head(3)"
   ]
  },
  {
   "cell_type": "code",
   "execution_count": 44,
   "id": "fa806c74",
   "metadata": {
    "extensions": {
     "jupyter_dashboards": {
      "version": 1,
      "views": {
       "grid_default": {},
       "report_default": {
        "hidden": true
       }
      }
     }
    }
   },
   "outputs": [
    {
     "data": {
      "text/plain": [
       "(859, 5)"
      ]
     },
     "execution_count": 44,
     "metadata": {},
     "output_type": "execute_result"
    }
   ],
   "source": [
    "df_test.shape"
   ]
  },
  {
   "cell_type": "code",
   "execution_count": 49,
   "id": "3d0521ba",
   "metadata": {},
   "outputs": [],
   "source": [
    "df_test = df_test[df_test[\"Status\"] == \"TRUE\"]"
   ]
  },
  {
   "cell_type": "code",
   "execution_count": 50,
   "id": "b4a821ec",
   "metadata": {},
   "outputs": [
    {
     "data": {
      "text/plain": [
       "(739, 5)"
      ]
     },
     "execution_count": 50,
     "metadata": {},
     "output_type": "execute_result"
    }
   ],
   "source": [
    "df_test.shape"
   ]
  },
  {
   "cell_type": "code",
   "execution_count": 51,
   "id": "9b7a3578",
   "metadata": {},
   "outputs": [],
   "source": [
    "df_test.to_csv(\"./data/matomo_logs_preprocessed.csv\", header=True, index=False)"
   ]
  },
  {
   "cell_type": "markdown",
   "id": "cd36fea4",
   "metadata": {},
   "source": [
    "# NGINX Logs"
   ]
  },
  {
   "cell_type": "markdown",
   "id": "c89dfdbe",
   "metadata": {},
   "source": [
    "### Import data unprocessed"
   ]
  },
  {
   "cell_type": "code",
   "execution_count": 52,
   "id": "1e83da1b",
   "metadata": {},
   "outputs": [],
   "source": [
    "df_test = pd.read_csv(\"./data/nginx_logs_labelled.csv\", dtype=str)"
   ]
  },
  {
   "cell_type": "code",
   "execution_count": 53,
   "id": "9d5e43ef",
   "metadata": {},
   "outputs": [
    {
     "data": {
      "text/plain": [
       "(16091, 8)"
      ]
     },
     "execution_count": 53,
     "metadata": {},
     "output_type": "execute_result"
    }
   ],
   "source": [
    "df_test.shape"
   ]
  },
  {
   "cell_type": "code",
   "execution_count": 54,
   "id": "3b863cf0",
   "metadata": {},
   "outputs": [
    {
     "data": {
      "text/html": [
       "<div>\n",
       "<style scoped>\n",
       "    .dataframe tbody tr th:only-of-type {\n",
       "        vertical-align: middle;\n",
       "    }\n",
       "\n",
       "    .dataframe tbody tr th {\n",
       "        vertical-align: top;\n",
       "    }\n",
       "\n",
       "    .dataframe thead th {\n",
       "        text-align: right;\n",
       "    }\n",
       "</style>\n",
       "<table border=\"1\" class=\"dataframe\">\n",
       "  <thead>\n",
       "    <tr style=\"text-align: right;\">\n",
       "      <th></th>\n",
       "      <th>terms</th>\n",
       "      <th>url_post</th>\n",
       "      <th>url_elastic</th>\n",
       "      <th>Google</th>\n",
       "      <th>Pappers</th>\n",
       "      <th>siren</th>\n",
       "      <th>siret</th>\n",
       "      <th>degree of condifence</th>\n",
       "    </tr>\n",
       "  </thead>\n",
       "  <tbody>\n",
       "    <tr>\n",
       "      <th>0</th>\n",
       "      <td>agence interim adecco</td>\n",
       "      <td>https://annuaire-entreprises.data.gouv.fr/rech...</td>\n",
       "      <td>https://test.annuaire-entreprises.data.gouv.fr...</td>\n",
       "      <td>https://www.google.com/search?client=firefox-b...</td>\n",
       "      <td>https://www.pappers.fr/recherche?q=agence+inte...</td>\n",
       "      <td>?</td>\n",
       "      <td>NaN</td>\n",
       "      <td>NaN</td>\n",
       "    </tr>\n",
       "    <tr>\n",
       "      <th>1</th>\n",
       "      <td>fondation adecco</td>\n",
       "      <td>https://annuaire-entreprises.data.gouv.fr/rech...</td>\n",
       "      <td>https://test.annuaire-entreprises.data.gouv.fr...</td>\n",
       "      <td>https://www.google.com/search?client=firefox-b...</td>\n",
       "      <td>https://www.pappers.fr/recherche?q=fondation+a...</td>\n",
       "      <td>?</td>\n",
       "      <td>NaN</td>\n",
       "      <td>NaN</td>\n",
       "    </tr>\n",
       "    <tr>\n",
       "      <th>2</th>\n",
       "      <td>club mediterranee</td>\n",
       "      <td>https://annuaire-entreprises.data.gouv.fr/rech...</td>\n",
       "      <td>https://test.annuaire-entreprises.data.gouv.fr...</td>\n",
       "      <td>https://www.google.com/search?client=firefox-b...</td>\n",
       "      <td>https://www.pappers.fr/recherche?q=club+medite...</td>\n",
       "      <td>572185684</td>\n",
       "      <td>NaN</td>\n",
       "      <td>NaN</td>\n",
       "    </tr>\n",
       "  </tbody>\n",
       "</table>\n",
       "</div>"
      ],
      "text/plain": [
       "                   terms                                           url_post  \\\n",
       "0  agence interim adecco  https://annuaire-entreprises.data.gouv.fr/rech...   \n",
       "1       fondation adecco  https://annuaire-entreprises.data.gouv.fr/rech...   \n",
       "2      club mediterranee  https://annuaire-entreprises.data.gouv.fr/rech...   \n",
       "\n",
       "                                         url_elastic  \\\n",
       "0  https://test.annuaire-entreprises.data.gouv.fr...   \n",
       "1  https://test.annuaire-entreprises.data.gouv.fr...   \n",
       "2  https://test.annuaire-entreprises.data.gouv.fr...   \n",
       "\n",
       "                                              Google  \\\n",
       "0  https://www.google.com/search?client=firefox-b...   \n",
       "1  https://www.google.com/search?client=firefox-b...   \n",
       "2  https://www.google.com/search?client=firefox-b...   \n",
       "\n",
       "                                             Pappers      siren siret  \\\n",
       "0  https://www.pappers.fr/recherche?q=agence+inte...          ?   NaN   \n",
       "1  https://www.pappers.fr/recherche?q=fondation+a...          ?   NaN   \n",
       "2  https://www.pappers.fr/recherche?q=club+medite...  572185684   NaN   \n",
       "\n",
       "  degree of condifence  \n",
       "0                  NaN  \n",
       "1                  NaN  \n",
       "2                  NaN  "
      ]
     },
     "execution_count": 54,
     "metadata": {},
     "output_type": "execute_result"
    }
   ],
   "source": [
    "df_test.head(3)"
   ]
  },
  {
   "cell_type": "code",
   "execution_count": 56,
   "id": "6840ed7d",
   "metadata": {},
   "outputs": [
    {
     "data": {
      "text/plain": [
       "?              100\n",
       "343 056 958      5\n",
       "380 129 866      4\n",
       "852931450        2\n",
       "408 192 391      2\n",
       "              ... \n",
       "885 021 113      1\n",
       "799 543 616      1\n",
       "797 819 034      1\n",
       "531 669 315      1\n",
       "440736965        1\n",
       "Name: siren, Length: 167, dtype: int64"
      ]
     },
     "execution_count": 56,
     "metadata": {},
     "output_type": "execute_result"
    }
   ],
   "source": [
    "df_test[\"siren\"].value_counts()"
   ]
  },
  {
   "cell_type": "code",
   "execution_count": 57,
   "id": "1832fadf",
   "metadata": {},
   "outputs": [],
   "source": [
    "df_test = df_test[(df_test[\"siren\"] != \"?\") & df_test[\"siren\"]]"
   ]
  },
  {
   "cell_type": "code",
   "execution_count": 58,
   "id": "f9103513",
   "metadata": {},
   "outputs": [
    {
     "data": {
      "text/plain": [
       "(189, 8)"
      ]
     },
     "execution_count": 58,
     "metadata": {},
     "output_type": "execute_result"
    }
   ],
   "source": [
    "df_test.shape"
   ]
  },
  {
   "cell_type": "code",
   "execution_count": 60,
   "id": "b1752920",
   "metadata": {},
   "outputs": [
    {
     "data": {
      "text/plain": [
       "terms                   object\n",
       "url_post                object\n",
       "url_elastic             object\n",
       "Google                  object\n",
       "Pappers                 object\n",
       "siren                   object\n",
       "siret                   object\n",
       "degree of condifence    object\n",
       "dtype: object"
      ]
     },
     "execution_count": 60,
     "metadata": {},
     "output_type": "execute_result"
    }
   ],
   "source": [
    "df_test.dtypes"
   ]
  },
  {
   "cell_type": "code",
   "execution_count": 61,
   "id": "28d5c543",
   "metadata": {},
   "outputs": [
    {
     "data": {
      "text/plain": [
       "343 056 958    5\n",
       "380 129 866    4\n",
       "708202759      2\n",
       "810 414 243    2\n",
       "130 011 455    2\n",
       "              ..\n",
       "799 543 616    1\n",
       "797 819 034    1\n",
       "531 669 315    1\n",
       "403 891 062    1\n",
       "440736965      1\n",
       "Name: siren, Length: 166, dtype: int64"
      ]
     },
     "execution_count": 61,
     "metadata": {},
     "output_type": "execute_result"
    }
   ],
   "source": [
    "df_test[\"siren\"].value_counts()"
   ]
  },
  {
   "cell_type": "code",
   "execution_count": 63,
   "id": "35aa5694",
   "metadata": {},
   "outputs": [],
   "source": [
    "for index, row in df_test.iterrows():\n",
    "    df_test[\"siren\"][index] = df_test[\"siren\"][index].replace(\" \", \"\")"
   ]
  },
  {
   "cell_type": "code",
   "execution_count": 64,
   "id": "318991a3",
   "metadata": {},
   "outputs": [
    {
     "data": {
      "text/plain": [
       "343056958    5\n",
       "380129866    4\n",
       "130011455    3\n",
       "213702251    2\n",
       "750527848    2\n",
       "            ..\n",
       "885021113    1\n",
       "799543616    1\n",
       "797819034    1\n",
       "531669315    1\n",
       "440736965    1\n",
       "Name: siren, Length: 165, dtype: int64"
      ]
     },
     "execution_count": 64,
     "metadata": {},
     "output_type": "execute_result"
    }
   ],
   "source": [
    "df_test[\"siren\"].value_counts()"
   ]
  },
  {
   "cell_type": "code",
   "execution_count": 66,
   "id": "fdf239f1",
   "metadata": {},
   "outputs": [],
   "source": [
    "df_test.to_csv(\"./data/nginx_logs_preprocessed.csv\", header=True, index=False)"
   ]
  }
 ],
 "metadata": {
  "extensions": {
   "jupyter_dashboards": {
    "activeView": "grid_default",
    "version": 1,
    "views": {
     "grid_default": {
      "cellMargin": 10,
      "defaultCellHeight": 20,
      "maxColumns": 12,
      "name": "grid",
      "type": "grid"
     },
     "report_default": {
      "name": "report",
      "type": "report"
     }
    }
   }
  },
  "kernelspec": {
   "display_name": "Python 3 (ipykernel)",
   "language": "python",
   "name": "python3"
  },
  "language_info": {
   "codemirror_mode": {
    "name": "ipython",
    "version": 3
   },
   "file_extension": ".py",
   "mimetype": "text/x-python",
   "name": "python",
   "nbconvert_exporter": "python",
   "pygments_lexer": "ipython3",
   "version": "3.9.7"
  }
 },
 "nbformat": 4,
 "nbformat_minor": 5
}
